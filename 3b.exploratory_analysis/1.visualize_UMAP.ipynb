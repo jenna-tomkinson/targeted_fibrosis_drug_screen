{
 "cells": [
  {
   "cell_type": "markdown",
   "metadata": {},
   "source": [
    "# Visualize the UMAP embeddings with labels"
   ]
  },
  {
   "cell_type": "markdown",
   "metadata": {},
   "source": [
    "## Import libraries"
   ]
  },
  {
   "cell_type": "code",
   "execution_count": 1,
   "metadata": {
    "vscode": {
     "languageId": "r"
    }
   },
   "outputs": [
    {
     "name": "stderr",
     "output_type": "stream",
     "text": [
      "Warning message:\n",
      "“package ‘ggplot2’ was built under R version 4.2.3”\n",
      "Warning message:\n",
      "“package ‘arrow’ was built under R version 4.2.3”\n",
      "Warning message:\n",
      "“package ‘ggExtra’ was built under R version 4.2.3”\n"
     ]
    }
   ],
   "source": [
    "suppressPackageStartupMessages(library(ggplot2))\n",
    "suppressPackageStartupMessages(library(dplyr))\n",
    "suppressPackageStartupMessages(library(arrow))\n",
    "suppressPackageStartupMessages(library(ggExtra))"
   ]
  },
  {
   "cell_type": "code",
   "execution_count": 2,
   "metadata": {
    "vscode": {
     "languageId": "r"
    }
   },
   "outputs": [
    {
     "name": "stdout",
     "output_type": "stream",
     "text": [
      "Mapping of input files to output paths:\n",
      "                      Original_File                        Output_Path\n",
      "              UMAP_combined.parquet              figures/UMAP_combined\n",
      " UMAP_localhost240926150001.parquet figures/UMAP_localhost240926150001\n",
      " UMAP_localhost240927060001.parquet figures/UMAP_localhost240927060001\n",
      " UMAP_localhost240927120001.parquet figures/UMAP_localhost240927120001\n",
      " UMAP_localhost240928120001.parquet figures/UMAP_localhost240928120001\n"
     ]
    }
   ],
   "source": [
    "# Set up output directory for UMAP figures\n",
    "dir.create(\"./figures\", showWarnings = FALSE)\n",
    "\n",
    "# Set directory and file structure\n",
    "umap_dir <- \"results\"\n",
    "umap_files <- list.files(umap_dir, full.names = TRUE)\n",
    "\n",
    "output_fig_dir <- \"figures\"\n",
    "plate_suffix <- \".parquet\"\n",
    "\n",
    "# Define output figure paths\n",
    "output_umap_files <- setNames(\n",
    "  file.path(\n",
    "    output_fig_dir, \n",
    "    stringr::str_remove(basename(umap_files), plate_suffix) # Remove only .parquet\n",
    "  ),\n",
    "  basename(umap_files) # Use full original filenames as names\n",
    ")\n",
    "\n",
    "# Print the mapping in a cleaner format\n",
    "cat(\"Mapping of input files to output paths:\\n\")\n",
    "formatted_output <- data.frame(\n",
    "  Original_File = basename(umap_files),\n",
    "  Output_Path = file.path(output_fig_dir, stringr::str_remove(basename(umap_files), plate_suffix))\n",
    ")\n",
    "print(formatted_output, row.names = FALSE)"
   ]
  },
  {
   "cell_type": "code",
   "execution_count": 3,
   "metadata": {
    "vscode": {
     "languageId": "r"
    }
   },
   "outputs": [
    {
     "name": "stdout",
     "output_type": "stream",
     "text": [
      "[1] \"Inspecting plate: UMAP_combined.parquet\"\n",
      "[1] \"Dimensions: 54610 rows x 24 columns\"\n"
     ]
    },
    {
     "data": {
      "text/html": [
       "<table class=\"dataframe\">\n",
       "<caption>A tibble: 6 × 24</caption>\n",
       "<thead>\n",
       "\t<tr><th scope=col>Metadata_Pathway</th><th scope=col>Metadata_treatment</th><th scope=col>Metadata_Cytoplasm_Parent_Cells</th><th scope=col>Metadata_Cells_Number_Object_Number</th><th scope=col>Metadata_cell_type</th><th scope=col>Metadata_Cytoplasm_Parent_Nuclei</th><th scope=col>Metadata_Image_Count_Cells</th><th scope=col>Metadata_Nuclei_Location_Center_Y</th><th scope=col>Metadata_Cells_Location_Center_X</th><th scope=col>Metadata_heart_number</th><th scope=col>⋯</th><th scope=col>Metadata_WellRow</th><th scope=col>Metadata_Plate</th><th scope=col>Metadata_Well</th><th scope=col>Metadata_Nuclei_Number_Object_Number</th><th scope=col>Metadata_heart_failure_type</th><th scope=col>Metadata_Nuclei_Location_Center_X</th><th scope=col>UMAP0</th><th scope=col>UMAP1</th><th scope=col>Metadata_treatment_type</th><th scope=col>Metadata_Cell_Count</th></tr>\n",
       "\t<tr><th scope=col>&lt;chr&gt;</th><th scope=col>&lt;chr&gt;</th><th scope=col>&lt;int&gt;</th><th scope=col>&lt;int&gt;</th><th scope=col>&lt;chr&gt;</th><th scope=col>&lt;int&gt;</th><th scope=col>&lt;int&gt;</th><th scope=col>&lt;dbl&gt;</th><th scope=col>&lt;dbl&gt;</th><th scope=col>&lt;int&gt;</th><th scope=col>⋯</th><th scope=col>&lt;chr&gt;</th><th scope=col>&lt;chr&gt;</th><th scope=col>&lt;chr&gt;</th><th scope=col>&lt;int&gt;</th><th scope=col>&lt;chr&gt;</th><th scope=col>&lt;dbl&gt;</th><th scope=col>&lt;dbl&gt;</th><th scope=col>&lt;dbl&gt;</th><th scope=col>&lt;chr&gt;</th><th scope=col>&lt;int&gt;</th></tr>\n",
       "</thead>\n",
       "<tbody>\n",
       "\t<tr><td>healthy + DMSO</td><td>DMSO</td><td>1</td><td>1</td><td>healthy</td><td>6</td><td> 9</td><td>277.97748</td><td>809.9327</td><td>7</td><td>⋯</td><td>B</td><td>localhost240928120001</td><td>B02</td><td>6</td><td>NA</td><td>855.5996</td><td>14.03949</td><td>-2.672143</td><td>healthy + DMSO</td><td>473</td></tr>\n",
       "\t<tr><td>healthy + DMSO</td><td>DMSO</td><td>1</td><td>1</td><td>healthy</td><td>3</td><td> 4</td><td>209.54434</td><td>640.7904</td><td>7</td><td>⋯</td><td>B</td><td>localhost240928120001</td><td>B02</td><td>3</td><td>NA</td><td>613.9370</td><td>12.39137</td><td>-2.804739</td><td>healthy + DMSO</td><td>473</td></tr>\n",
       "\t<tr><td>healthy + DMSO</td><td>DMSO</td><td>1</td><td>1</td><td>healthy</td><td>3</td><td> 9</td><td>280.02319</td><td>927.5005</td><td>7</td><td>⋯</td><td>B</td><td>localhost240928120001</td><td>B02</td><td>3</td><td>NA</td><td>916.3797</td><td>12.98167</td><td>-2.519132</td><td>healthy + DMSO</td><td>473</td></tr>\n",
       "\t<tr><td>healthy + DMSO</td><td>DMSO</td><td>1</td><td>1</td><td>healthy</td><td>3</td><td>18</td><td> 80.03714</td><td>515.8436</td><td>7</td><td>⋯</td><td>B</td><td>localhost240928120001</td><td>B02</td><td>3</td><td>NA</td><td>530.4115</td><td>12.08846</td><td>-3.910254</td><td>healthy + DMSO</td><td>473</td></tr>\n",
       "\t<tr><td>healthy + DMSO</td><td>DMSO</td><td>1</td><td>1</td><td>healthy</td><td>4</td><td>10</td><td> 69.26508</td><td>955.2447</td><td>7</td><td>⋯</td><td>B</td><td>localhost240928120001</td><td>B02</td><td>4</td><td>NA</td><td>958.3017</td><td>11.05473</td><td>-2.796539</td><td>healthy + DMSO</td><td>473</td></tr>\n",
       "\t<tr><td>healthy + DMSO</td><td>DMSO</td><td>1</td><td>1</td><td>healthy</td><td>4</td><td> 8</td><td>149.40636</td><td>285.0814</td><td>7</td><td>⋯</td><td>B</td><td>localhost240928120001</td><td>B02</td><td>4</td><td>NA</td><td>261.3994</td><td>13.22900</td><td>-3.210628</td><td>healthy + DMSO</td><td>473</td></tr>\n",
       "</tbody>\n",
       "</table>\n"
      ],
      "text/latex": [
       "A tibble: 6 × 24\n",
       "\\begin{tabular}{lllllllllllllllllllll}\n",
       " Metadata\\_Pathway & Metadata\\_treatment & Metadata\\_Cytoplasm\\_Parent\\_Cells & Metadata\\_Cells\\_Number\\_Object\\_Number & Metadata\\_cell\\_type & Metadata\\_Cytoplasm\\_Parent\\_Nuclei & Metadata\\_Image\\_Count\\_Cells & Metadata\\_Nuclei\\_Location\\_Center\\_Y & Metadata\\_Cells\\_Location\\_Center\\_X & Metadata\\_heart\\_number & ⋯ & Metadata\\_WellRow & Metadata\\_Plate & Metadata\\_Well & Metadata\\_Nuclei\\_Number\\_Object\\_Number & Metadata\\_heart\\_failure\\_type & Metadata\\_Nuclei\\_Location\\_Center\\_X & UMAP0 & UMAP1 & Metadata\\_treatment\\_type & Metadata\\_Cell\\_Count\\\\\n",
       " <chr> & <chr> & <int> & <int> & <chr> & <int> & <int> & <dbl> & <dbl> & <int> & ⋯ & <chr> & <chr> & <chr> & <int> & <chr> & <dbl> & <dbl> & <dbl> & <chr> & <int>\\\\\n",
       "\\hline\n",
       "\t healthy + DMSO & DMSO & 1 & 1 & healthy & 6 &  9 & 277.97748 & 809.9327 & 7 & ⋯ & B & localhost240928120001 & B02 & 6 & NA & 855.5996 & 14.03949 & -2.672143 & healthy + DMSO & 473\\\\\n",
       "\t healthy + DMSO & DMSO & 1 & 1 & healthy & 3 &  4 & 209.54434 & 640.7904 & 7 & ⋯ & B & localhost240928120001 & B02 & 3 & NA & 613.9370 & 12.39137 & -2.804739 & healthy + DMSO & 473\\\\\n",
       "\t healthy + DMSO & DMSO & 1 & 1 & healthy & 3 &  9 & 280.02319 & 927.5005 & 7 & ⋯ & B & localhost240928120001 & B02 & 3 & NA & 916.3797 & 12.98167 & -2.519132 & healthy + DMSO & 473\\\\\n",
       "\t healthy + DMSO & DMSO & 1 & 1 & healthy & 3 & 18 &  80.03714 & 515.8436 & 7 & ⋯ & B & localhost240928120001 & B02 & 3 & NA & 530.4115 & 12.08846 & -3.910254 & healthy + DMSO & 473\\\\\n",
       "\t healthy + DMSO & DMSO & 1 & 1 & healthy & 4 & 10 &  69.26508 & 955.2447 & 7 & ⋯ & B & localhost240928120001 & B02 & 4 & NA & 958.3017 & 11.05473 & -2.796539 & healthy + DMSO & 473\\\\\n",
       "\t healthy + DMSO & DMSO & 1 & 1 & healthy & 4 &  8 & 149.40636 & 285.0814 & 7 & ⋯ & B & localhost240928120001 & B02 & 4 & NA & 261.3994 & 13.22900 & -3.210628 & healthy + DMSO & 473\\\\\n",
       "\\end{tabular}\n"
      ],
      "text/markdown": [
       "\n",
       "A tibble: 6 × 24\n",
       "\n",
       "| Metadata_Pathway &lt;chr&gt; | Metadata_treatment &lt;chr&gt; | Metadata_Cytoplasm_Parent_Cells &lt;int&gt; | Metadata_Cells_Number_Object_Number &lt;int&gt; | Metadata_cell_type &lt;chr&gt; | Metadata_Cytoplasm_Parent_Nuclei &lt;int&gt; | Metadata_Image_Count_Cells &lt;int&gt; | Metadata_Nuclei_Location_Center_Y &lt;dbl&gt; | Metadata_Cells_Location_Center_X &lt;dbl&gt; | Metadata_heart_number &lt;int&gt; | ⋯ ⋯ | Metadata_WellRow &lt;chr&gt; | Metadata_Plate &lt;chr&gt; | Metadata_Well &lt;chr&gt; | Metadata_Nuclei_Number_Object_Number &lt;int&gt; | Metadata_heart_failure_type &lt;chr&gt; | Metadata_Nuclei_Location_Center_X &lt;dbl&gt; | UMAP0 &lt;dbl&gt; | UMAP1 &lt;dbl&gt; | Metadata_treatment_type &lt;chr&gt; | Metadata_Cell_Count &lt;int&gt; |\n",
       "|---|---|---|---|---|---|---|---|---|---|---|---|---|---|---|---|---|---|---|---|---|\n",
       "| healthy + DMSO | DMSO | 1 | 1 | healthy | 6 |  9 | 277.97748 | 809.9327 | 7 | ⋯ | B | localhost240928120001 | B02 | 6 | NA | 855.5996 | 14.03949 | -2.672143 | healthy + DMSO | 473 |\n",
       "| healthy + DMSO | DMSO | 1 | 1 | healthy | 3 |  4 | 209.54434 | 640.7904 | 7 | ⋯ | B | localhost240928120001 | B02 | 3 | NA | 613.9370 | 12.39137 | -2.804739 | healthy + DMSO | 473 |\n",
       "| healthy + DMSO | DMSO | 1 | 1 | healthy | 3 |  9 | 280.02319 | 927.5005 | 7 | ⋯ | B | localhost240928120001 | B02 | 3 | NA | 916.3797 | 12.98167 | -2.519132 | healthy + DMSO | 473 |\n",
       "| healthy + DMSO | DMSO | 1 | 1 | healthy | 3 | 18 |  80.03714 | 515.8436 | 7 | ⋯ | B | localhost240928120001 | B02 | 3 | NA | 530.4115 | 12.08846 | -3.910254 | healthy + DMSO | 473 |\n",
       "| healthy + DMSO | DMSO | 1 | 1 | healthy | 4 | 10 |  69.26508 | 955.2447 | 7 | ⋯ | B | localhost240928120001 | B02 | 4 | NA | 958.3017 | 11.05473 | -2.796539 | healthy + DMSO | 473 |\n",
       "| healthy + DMSO | DMSO | 1 | 1 | healthy | 4 |  8 | 149.40636 | 285.0814 | 7 | ⋯ | B | localhost240928120001 | B02 | 4 | NA | 261.3994 | 13.22900 | -3.210628 | healthy + DMSO | 473 |\n",
       "\n"
      ],
      "text/plain": [
       "  Metadata_Pathway Metadata_treatment Metadata_Cytoplasm_Parent_Cells\n",
       "1 healthy + DMSO   DMSO               1                              \n",
       "2 healthy + DMSO   DMSO               1                              \n",
       "3 healthy + DMSO   DMSO               1                              \n",
       "4 healthy + DMSO   DMSO               1                              \n",
       "5 healthy + DMSO   DMSO               1                              \n",
       "6 healthy + DMSO   DMSO               1                              \n",
       "  Metadata_Cells_Number_Object_Number Metadata_cell_type\n",
       "1 1                                   healthy           \n",
       "2 1                                   healthy           \n",
       "3 1                                   healthy           \n",
       "4 1                                   healthy           \n",
       "5 1                                   healthy           \n",
       "6 1                                   healthy           \n",
       "  Metadata_Cytoplasm_Parent_Nuclei Metadata_Image_Count_Cells\n",
       "1 6                                 9                        \n",
       "2 3                                 4                        \n",
       "3 3                                 9                        \n",
       "4 3                                18                        \n",
       "5 4                                10                        \n",
       "6 4                                 8                        \n",
       "  Metadata_Nuclei_Location_Center_Y Metadata_Cells_Location_Center_X\n",
       "1 277.97748                         809.9327                        \n",
       "2 209.54434                         640.7904                        \n",
       "3 280.02319                         927.5005                        \n",
       "4  80.03714                         515.8436                        \n",
       "5  69.26508                         955.2447                        \n",
       "6 149.40636                         285.0814                        \n",
       "  Metadata_heart_number ⋯ Metadata_WellRow Metadata_Plate        Metadata_Well\n",
       "1 7                     ⋯ B                localhost240928120001 B02          \n",
       "2 7                     ⋯ B                localhost240928120001 B02          \n",
       "3 7                     ⋯ B                localhost240928120001 B02          \n",
       "4 7                     ⋯ B                localhost240928120001 B02          \n",
       "5 7                     ⋯ B                localhost240928120001 B02          \n",
       "6 7                     ⋯ B                localhost240928120001 B02          \n",
       "  Metadata_Nuclei_Number_Object_Number Metadata_heart_failure_type\n",
       "1 6                                    NA                         \n",
       "2 3                                    NA                         \n",
       "3 3                                    NA                         \n",
       "4 3                                    NA                         \n",
       "5 4                                    NA                         \n",
       "6 4                                    NA                         \n",
       "  Metadata_Nuclei_Location_Center_X UMAP0    UMAP1     Metadata_treatment_type\n",
       "1 855.5996                          14.03949 -2.672143 healthy + DMSO         \n",
       "2 613.9370                          12.39137 -2.804739 healthy + DMSO         \n",
       "3 916.3797                          12.98167 -2.519132 healthy + DMSO         \n",
       "4 530.4115                          12.08846 -3.910254 healthy + DMSO         \n",
       "5 958.3017                          11.05473 -2.796539 healthy + DMSO         \n",
       "6 261.3994                          13.22900 -3.210628 healthy + DMSO         \n",
       "  Metadata_Cell_Count\n",
       "1 473                \n",
       "2 473                \n",
       "3 473                \n",
       "4 473                \n",
       "5 473                \n",
       "6 473                "
      ]
     },
     "metadata": {},
     "output_type": "display_data"
    }
   ],
   "source": [
    "# Load data\n",
    "umap_cp_df <- list()\n",
    "\n",
    "for (plate in names(output_umap_files)) {\n",
    "    # Find the umap file associated with the plate\n",
    "    umap_file <- umap_files[stringr::str_detect(umap_files, plate)]\n",
    "    \n",
    "    if (length(umap_file) > 0) {\n",
    "        # Load the umap data directly from Parquet file\n",
    "        df <- arrow::read_parquet(umap_file)\n",
    "         \n",
    "        # Group by Metadata_Well and count cells\n",
    "        cell_count_df <- df %>%\n",
    "            dplyr::group_by(Metadata_Well) %>%\n",
    "            dplyr::count() %>%\n",
    "            dplyr::rename(Metadata_Cell_Count = n)\n",
    "        \n",
    "        # Merge the cell count data with the original dataframe\n",
    "        umap_cp_df[[plate]] <- df %>%\n",
    "            dplyr::left_join(cell_count_df, by = \"Metadata_Well\")\n",
    "        \n",
    "        # Update 'Endocrinology & Hormones' in Metadata_Pathway\n",
    "        umap_cp_df[[plate]] <- umap_cp_df[[plate]] %>%\n",
    "            dplyr::mutate(Metadata_Pathway = dplyr::recode(Metadata_Pathway,\n",
    "                                                           \"Endocrinology & Hormones\" = \"Endocrinology &\\nHormones\"))\n",
    "            \n",
    "    } else {\n",
    "        message(paste(\"No file found for plate:\", plate))\n",
    "    }\n",
    "}\n",
    "\n",
    "# Inspect the first processed plate's data and print its dimensions\n",
    "if (length(umap_cp_df) > 0) {\n",
    "    plate_to_inspect <- names(umap_cp_df)[1]\n",
    "    df_to_inspect <- umap_cp_df[[plate_to_inspect]]\n",
    "    print(paste(\"Inspecting plate:\", plate_to_inspect))\n",
    "    print(paste(\"Dimensions:\", dim(df_to_inspect)[1], \"rows x\", dim(df_to_inspect)[2], \"columns\"))\n",
    "    head(df_to_inspect)\n",
    "}\n"
   ]
  },
  {
   "cell_type": "code",
   "execution_count": 4,
   "metadata": {
    "vscode": {
     "languageId": "r"
    }
   },
   "outputs": [],
   "source": [
    "for (plate in names(umap_cp_df)) {\n",
    "    # cell type UMAP\n",
    "    output_file <- output_umap_files[[plate]]\n",
    "    output_file <- paste0(output_file, \"_cell_type.png\")\n",
    "    \n",
    "    umap_dose_gg <- (\n",
    "        ggplot(umap_cp_df[[plate]], aes(x = UMAP0, y = UMAP1))\n",
    "        + geom_point(\n",
    "            aes(color = Metadata_treatment_type), size = 0.4, alpha = 0.7\n",
    "        )\n",
    "        + facet_grid(Metadata_treatment_type ~ .)\n",
    "        + theme_bw()\n",
    "        + scale_color_brewer(palette = \"Dark2\", name = \"Cell type\")\n",
    "\n",
    "    )\n",
    "    \n",
    "    ggsave(output_file, umap_dose_gg, dpi = 500, height = 6, width = 6)\n",
    "}"
   ]
  },
  {
   "cell_type": "code",
   "execution_count": 5,
   "metadata": {
    "vscode": {
     "languageId": "r"
    }
   },
   "outputs": [],
   "source": [
    "custom_palette <- c(\n",
    "  \"Angiogenesis\" = \"#1b9e77\",\n",
    "  \"Apoptosis\" = \"#d95f02\",\n",
    "  \"DNA Damage\" = \"#7570b3\",\n",
    "  \"Endocrinology & Hormones\" = \"#e7298a\",\n",
    "  \"Epigenetics\" = \"#66a61e\",\n",
    "  \"MAPK\" = \"#e6ab02\",\n",
    "  \"Metabolism\" = \"#a6761d\",\n",
    "  \"Neuronal Signaling\" = \"#667665\",\n",
    "  \"Others\" = \"#b3b3b3\",\n",
    "  \"PI3K/Akt/mTOR\" = \"#8dd3c7\",\n",
    "  \"Stem Cells &  Wnt\" = \"#fb8072\",\n",
    "  \"GPCR & G Protein\" = \"#984ea3\",\n",
    "  \"healthy + DMSO\" = \"#004400\",\n",
    "  \"failing + DMSO\" = \"#a0004b\"\n",
    ")\n",
    "\n",
    "for (plate in names(umap_cp_df)) {\n",
    "    # pathway UMAP\n",
    "    output_file <- output_umap_files[[plate]]\n",
    "    output_file <- paste0(output_file, \"_pathway.png\")\n",
    "\n",
    "    # Move control facets to the front\n",
    "    umap_cp_df[[plate]]$Metadata_Pathway <- factor(\n",
    "        umap_cp_df[[plate]]$Metadata_Pathway,\n",
    "        levels = c(\"healthy + DMSO\", \"failing + DMSO\", setdiff(unique(umap_cp_df[[plate]]$Metadata_Pathway), c(\"healthy + DMSO\", \"failing + DMSO\")))\n",
    "        )\n",
    "\n",
    "    umap_dose_gg <- (\n",
    "        ggplot(umap_cp_df[[plate]], aes(x = UMAP0, y = UMAP1))\n",
    "        + geom_point(\n",
    "            aes(color = Metadata_Pathway), size = 0.4, alpha = 0.4\n",
    "        )\n",
    "        + theme_bw()\n",
    "        + facet_wrap(~ Metadata_Pathway, nrow=2)\n",
    "        + scale_color_manual(values = custom_palette) # Use the custom color palette\n",
    "    )\n",
    "    \n",
    "    ggsave(output_file, umap_dose_gg, dpi = 500, height = 4, width = 12)\n",
    "}"
   ]
  }
 ],
 "metadata": {
  "kernelspec": {
   "display_name": "R",
   "language": "R",
   "name": "ir"
  },
  "language_info": {
   "codemirror_mode": "r",
   "file_extension": ".r",
   "mimetype": "text/x-r-source",
   "name": "R",
   "pygments_lexer": "r",
   "version": "4.2.2"
  }
 },
 "nbformat": 4,
 "nbformat_minor": 2
}
