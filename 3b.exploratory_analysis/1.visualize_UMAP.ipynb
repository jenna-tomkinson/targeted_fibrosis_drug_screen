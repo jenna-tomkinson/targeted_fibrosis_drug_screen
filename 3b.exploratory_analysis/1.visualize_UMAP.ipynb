{
 "cells": [
  {
   "cell_type": "markdown",
   "metadata": {},
   "source": [
    "# Visualize the UMAP embeddings with labels"
   ]
  },
  {
   "cell_type": "markdown",
   "metadata": {},
   "source": [
    "## Import libraries"
   ]
  },
  {
   "cell_type": "code",
   "execution_count": 1,
   "metadata": {
    "vscode": {
     "languageId": "r"
    }
   },
   "outputs": [
    {
     "name": "stderr",
     "output_type": "stream",
     "text": [
      "Warning message:\n",
      "“package ‘ggplot2’ was built under R version 4.2.3”\n",
      "Warning message:\n",
      "“package ‘arrow’ was built under R version 4.2.3”\n",
      "Warning message:\n",
      "“package ‘ggExtra’ was built under R version 4.2.3”\n"
     ]
    }
   ],
   "source": [
    "suppressPackageStartupMessages(library(ggplot2))\n",
    "suppressPackageStartupMessages(library(dplyr))\n",
    "suppressPackageStartupMessages(library(arrow))\n",
    "suppressPackageStartupMessages(library(ggExtra))"
   ]
  },
  {
   "cell_type": "code",
   "execution_count": 2,
   "metadata": {
    "vscode": {
     "languageId": "r"
    }
   },
   "outputs": [
    {
     "name": "stdout",
     "output_type": "stream",
     "text": [
      "Mapping of input files to output paths:\n",
      "                      Original_File                        Output_Path\n",
      "              UMAP_combined.parquet              figures/UMAP_combined\n",
      " UMAP_localhost240926150001.parquet figures/UMAP_localhost240926150001\n",
      " UMAP_localhost240927060001.parquet figures/UMAP_localhost240927060001\n",
      " UMAP_localhost240927120001.parquet figures/UMAP_localhost240927120001\n",
      " UMAP_localhost240928120001.parquet figures/UMAP_localhost240928120001\n"
     ]
    }
   ],
   "source": [
    "# Set up output directory for UMAP figures\n",
    "dir.create(\"./figures\", showWarnings = FALSE)\n",
    "\n",
    "# Set directory and file structure\n",
    "umap_dir <- \"results\"\n",
    "umap_files <- list.files(umap_dir, full.names = TRUE)\n",
    "\n",
    "output_fig_dir <- \"figures\"\n",
    "plate_suffix <- \".parquet\"\n",
    "\n",
    "# Define output figure paths\n",
    "output_umap_files <- setNames(\n",
    "  file.path(\n",
    "    output_fig_dir, \n",
    "    stringr::str_remove(basename(umap_files), plate_suffix) # Remove only .parquet\n",
    "  ),\n",
    "  basename(umap_files) # Use full original filenames as names\n",
    ")\n",
    "\n",
    "# Print the mapping in a cleaner format\n",
    "cat(\"Mapping of input files to output paths:\\n\")\n",
    "formatted_output <- data.frame(\n",
    "  Original_File = basename(umap_files),\n",
    "  Output_Path = file.path(output_fig_dir, stringr::str_remove(basename(umap_files), plate_suffix))\n",
    ")\n",
    "print(formatted_output, row.names = FALSE)"
   ]
  },
  {
   "cell_type": "code",
   "execution_count": 3,
   "metadata": {
    "vscode": {
     "languageId": "r"
    }
   },
   "outputs": [
    {
     "name": "stdout",
     "output_type": "stream",
     "text": [
      "[1] \"Inspecting plate: UMAP_combined.parquet\"\n",
      "[1] \"Dimensions: 54610 rows x 24 columns\"\n"
     ]
    },
    {
     "data": {
      "text/html": [
       "<table class=\"dataframe\">\n",
       "<caption>A tibble: 6 × 24</caption>\n",
       "<thead>\n",
       "\t<tr><th scope=col>Metadata_ImageNumber</th><th scope=col>Metadata_Cells_Number_Object_Number</th><th scope=col>Metadata_WellRow</th><th scope=col>Metadata_Well</th><th scope=col>Metadata_Image_Count_Cells</th><th scope=col>Metadata_Nuclei_Number_Object_Number</th><th scope=col>Metadata_heart_failure_type</th><th scope=col>Metadata_Site</th><th scope=col>Metadata_Nuclei_Location_Center_Y</th><th scope=col>Metadata_WellCol</th><th scope=col>⋯</th><th scope=col>Metadata_Plate</th><th scope=col>Metadata_Nuclei_Location_Center_X</th><th scope=col>Metadata_Cells_Location_Center_X</th><th scope=col>Metadata_cell_type</th><th scope=col>Metadata_Pathway</th><th scope=col>Metadata_treatment</th><th scope=col>UMAP0</th><th scope=col>UMAP1</th><th scope=col>Metadata_treatment_type</th><th scope=col>Metadata_Cell_Count</th></tr>\n",
       "\t<tr><th scope=col>&lt;int&gt;</th><th scope=col>&lt;int&gt;</th><th scope=col>&lt;chr&gt;</th><th scope=col>&lt;chr&gt;</th><th scope=col>&lt;int&gt;</th><th scope=col>&lt;int&gt;</th><th scope=col>&lt;chr&gt;</th><th scope=col>&lt;chr&gt;</th><th scope=col>&lt;dbl&gt;</th><th scope=col>&lt;int&gt;</th><th scope=col>⋯</th><th scope=col>&lt;chr&gt;</th><th scope=col>&lt;dbl&gt;</th><th scope=col>&lt;dbl&gt;</th><th scope=col>&lt;chr&gt;</th><th scope=col>&lt;chr&gt;</th><th scope=col>&lt;chr&gt;</th><th scope=col>&lt;dbl&gt;</th><th scope=col>&lt;dbl&gt;</th><th scope=col>&lt;chr&gt;</th><th scope=col>&lt;int&gt;</th></tr>\n",
       "</thead>\n",
       "<tbody>\n",
       "\t<tr><td>2</td><td>1</td><td>B</td><td>B02</td><td> 9</td><td>6</td><td>NA</td><td>f04</td><td>277.97748</td><td>2</td><td>⋯</td><td>localhost240928120001</td><td>855.5996</td><td>809.9327</td><td>healthy</td><td>healthy + DMSO</td><td>DMSO</td><td>14.96655</td><td>-0.23701455</td><td>healthy + DMSO</td><td>473</td></tr>\n",
       "\t<tr><td>3</td><td>1</td><td>B</td><td>B02</td><td> 4</td><td>3</td><td>NA</td><td>f10</td><td>209.54434</td><td>2</td><td>⋯</td><td>localhost240928120001</td><td>613.9370</td><td>640.7904</td><td>healthy</td><td>healthy + DMSO</td><td>DMSO</td><td>13.21391</td><td> 0.07471345</td><td>healthy + DMSO</td><td>473</td></tr>\n",
       "\t<tr><td>5</td><td>1</td><td>B</td><td>B02</td><td> 9</td><td>3</td><td>NA</td><td>f14</td><td>280.02319</td><td>2</td><td>⋯</td><td>localhost240928120001</td><td>916.3797</td><td>927.5005</td><td>healthy</td><td>healthy + DMSO</td><td>DMSO</td><td>13.96944</td><td> 0.77529192</td><td>healthy + DMSO</td><td>473</td></tr>\n",
       "\t<tr><td>7</td><td>1</td><td>B</td><td>B02</td><td>18</td><td>3</td><td>NA</td><td>f18</td><td> 80.03714</td><td>2</td><td>⋯</td><td>localhost240928120001</td><td>530.4115</td><td>515.8436</td><td>healthy</td><td>healthy + DMSO</td><td>DMSO</td><td>12.73919</td><td> 0.86919010</td><td>healthy + DMSO</td><td>473</td></tr>\n",
       "\t<tr><td>1</td><td>1</td><td>B</td><td>B02</td><td>10</td><td>4</td><td>NA</td><td>f00</td><td> 69.26508</td><td>2</td><td>⋯</td><td>localhost240928120001</td><td>958.3017</td><td>955.2447</td><td>healthy</td><td>healthy + DMSO</td><td>DMSO</td><td>11.92956</td><td> 0.02598767</td><td>healthy + DMSO</td><td>473</td></tr>\n",
       "\t<tr><td>8</td><td>1</td><td>B</td><td>B02</td><td> 8</td><td>4</td><td>NA</td><td>f20</td><td>149.40636</td><td>2</td><td>⋯</td><td>localhost240928120001</td><td>261.3994</td><td>285.0814</td><td>healthy</td><td>healthy + DMSO</td><td>DMSO</td><td>14.03525</td><td> 0.54138279</td><td>healthy + DMSO</td><td>473</td></tr>\n",
       "</tbody>\n",
       "</table>\n"
      ],
      "text/latex": [
       "A tibble: 6 × 24\n",
       "\\begin{tabular}{lllllllllllllllllllll}\n",
       " Metadata\\_ImageNumber & Metadata\\_Cells\\_Number\\_Object\\_Number & Metadata\\_WellRow & Metadata\\_Well & Metadata\\_Image\\_Count\\_Cells & Metadata\\_Nuclei\\_Number\\_Object\\_Number & Metadata\\_heart\\_failure\\_type & Metadata\\_Site & Metadata\\_Nuclei\\_Location\\_Center\\_Y & Metadata\\_WellCol & ⋯ & Metadata\\_Plate & Metadata\\_Nuclei\\_Location\\_Center\\_X & Metadata\\_Cells\\_Location\\_Center\\_X & Metadata\\_cell\\_type & Metadata\\_Pathway & Metadata\\_treatment & UMAP0 & UMAP1 & Metadata\\_treatment\\_type & Metadata\\_Cell\\_Count\\\\\n",
       " <int> & <int> & <chr> & <chr> & <int> & <int> & <chr> & <chr> & <dbl> & <int> & ⋯ & <chr> & <dbl> & <dbl> & <chr> & <chr> & <chr> & <dbl> & <dbl> & <chr> & <int>\\\\\n",
       "\\hline\n",
       "\t 2 & 1 & B & B02 &  9 & 6 & NA & f04 & 277.97748 & 2 & ⋯ & localhost240928120001 & 855.5996 & 809.9327 & healthy & healthy + DMSO & DMSO & 14.96655 & -0.23701455 & healthy + DMSO & 473\\\\\n",
       "\t 3 & 1 & B & B02 &  4 & 3 & NA & f10 & 209.54434 & 2 & ⋯ & localhost240928120001 & 613.9370 & 640.7904 & healthy & healthy + DMSO & DMSO & 13.21391 &  0.07471345 & healthy + DMSO & 473\\\\\n",
       "\t 5 & 1 & B & B02 &  9 & 3 & NA & f14 & 280.02319 & 2 & ⋯ & localhost240928120001 & 916.3797 & 927.5005 & healthy & healthy + DMSO & DMSO & 13.96944 &  0.77529192 & healthy + DMSO & 473\\\\\n",
       "\t 7 & 1 & B & B02 & 18 & 3 & NA & f18 &  80.03714 & 2 & ⋯ & localhost240928120001 & 530.4115 & 515.8436 & healthy & healthy + DMSO & DMSO & 12.73919 &  0.86919010 & healthy + DMSO & 473\\\\\n",
       "\t 1 & 1 & B & B02 & 10 & 4 & NA & f00 &  69.26508 & 2 & ⋯ & localhost240928120001 & 958.3017 & 955.2447 & healthy & healthy + DMSO & DMSO & 11.92956 &  0.02598767 & healthy + DMSO & 473\\\\\n",
       "\t 8 & 1 & B & B02 &  8 & 4 & NA & f20 & 149.40636 & 2 & ⋯ & localhost240928120001 & 261.3994 & 285.0814 & healthy & healthy + DMSO & DMSO & 14.03525 &  0.54138279 & healthy + DMSO & 473\\\\\n",
       "\\end{tabular}\n"
      ],
      "text/markdown": [
       "\n",
       "A tibble: 6 × 24\n",
       "\n",
       "| Metadata_ImageNumber &lt;int&gt; | Metadata_Cells_Number_Object_Number &lt;int&gt; | Metadata_WellRow &lt;chr&gt; | Metadata_Well &lt;chr&gt; | Metadata_Image_Count_Cells &lt;int&gt; | Metadata_Nuclei_Number_Object_Number &lt;int&gt; | Metadata_heart_failure_type &lt;chr&gt; | Metadata_Site &lt;chr&gt; | Metadata_Nuclei_Location_Center_Y &lt;dbl&gt; | Metadata_WellCol &lt;int&gt; | ⋯ ⋯ | Metadata_Plate &lt;chr&gt; | Metadata_Nuclei_Location_Center_X &lt;dbl&gt; | Metadata_Cells_Location_Center_X &lt;dbl&gt; | Metadata_cell_type &lt;chr&gt; | Metadata_Pathway &lt;chr&gt; | Metadata_treatment &lt;chr&gt; | UMAP0 &lt;dbl&gt; | UMAP1 &lt;dbl&gt; | Metadata_treatment_type &lt;chr&gt; | Metadata_Cell_Count &lt;int&gt; |\n",
       "|---|---|---|---|---|---|---|---|---|---|---|---|---|---|---|---|---|---|---|---|---|\n",
       "| 2 | 1 | B | B02 |  9 | 6 | NA | f04 | 277.97748 | 2 | ⋯ | localhost240928120001 | 855.5996 | 809.9327 | healthy | healthy + DMSO | DMSO | 14.96655 | -0.23701455 | healthy + DMSO | 473 |\n",
       "| 3 | 1 | B | B02 |  4 | 3 | NA | f10 | 209.54434 | 2 | ⋯ | localhost240928120001 | 613.9370 | 640.7904 | healthy | healthy + DMSO | DMSO | 13.21391 |  0.07471345 | healthy + DMSO | 473 |\n",
       "| 5 | 1 | B | B02 |  9 | 3 | NA | f14 | 280.02319 | 2 | ⋯ | localhost240928120001 | 916.3797 | 927.5005 | healthy | healthy + DMSO | DMSO | 13.96944 |  0.77529192 | healthy + DMSO | 473 |\n",
       "| 7 | 1 | B | B02 | 18 | 3 | NA | f18 |  80.03714 | 2 | ⋯ | localhost240928120001 | 530.4115 | 515.8436 | healthy | healthy + DMSO | DMSO | 12.73919 |  0.86919010 | healthy + DMSO | 473 |\n",
       "| 1 | 1 | B | B02 | 10 | 4 | NA | f00 |  69.26508 | 2 | ⋯ | localhost240928120001 | 958.3017 | 955.2447 | healthy | healthy + DMSO | DMSO | 11.92956 |  0.02598767 | healthy + DMSO | 473 |\n",
       "| 8 | 1 | B | B02 |  8 | 4 | NA | f20 | 149.40636 | 2 | ⋯ | localhost240928120001 | 261.3994 | 285.0814 | healthy | healthy + DMSO | DMSO | 14.03525 |  0.54138279 | healthy + DMSO | 473 |\n",
       "\n"
      ],
      "text/plain": [
       "  Metadata_ImageNumber Metadata_Cells_Number_Object_Number Metadata_WellRow\n",
       "1 2                    1                                   B               \n",
       "2 3                    1                                   B               \n",
       "3 5                    1                                   B               \n",
       "4 7                    1                                   B               \n",
       "5 1                    1                                   B               \n",
       "6 8                    1                                   B               \n",
       "  Metadata_Well Metadata_Image_Count_Cells Metadata_Nuclei_Number_Object_Number\n",
       "1 B02            9                         6                                   \n",
       "2 B02            4                         3                                   \n",
       "3 B02            9                         3                                   \n",
       "4 B02           18                         3                                   \n",
       "5 B02           10                         4                                   \n",
       "6 B02            8                         4                                   \n",
       "  Metadata_heart_failure_type Metadata_Site Metadata_Nuclei_Location_Center_Y\n",
       "1 NA                          f04           277.97748                        \n",
       "2 NA                          f10           209.54434                        \n",
       "3 NA                          f14           280.02319                        \n",
       "4 NA                          f18            80.03714                        \n",
       "5 NA                          f00            69.26508                        \n",
       "6 NA                          f20           149.40636                        \n",
       "  Metadata_WellCol ⋯ Metadata_Plate        Metadata_Nuclei_Location_Center_X\n",
       "1 2                ⋯ localhost240928120001 855.5996                         \n",
       "2 2                ⋯ localhost240928120001 613.9370                         \n",
       "3 2                ⋯ localhost240928120001 916.3797                         \n",
       "4 2                ⋯ localhost240928120001 530.4115                         \n",
       "5 2                ⋯ localhost240928120001 958.3017                         \n",
       "6 2                ⋯ localhost240928120001 261.3994                         \n",
       "  Metadata_Cells_Location_Center_X Metadata_cell_type Metadata_Pathway\n",
       "1 809.9327                         healthy            healthy + DMSO  \n",
       "2 640.7904                         healthy            healthy + DMSO  \n",
       "3 927.5005                         healthy            healthy + DMSO  \n",
       "4 515.8436                         healthy            healthy + DMSO  \n",
       "5 955.2447                         healthy            healthy + DMSO  \n",
       "6 285.0814                         healthy            healthy + DMSO  \n",
       "  Metadata_treatment UMAP0    UMAP1       Metadata_treatment_type\n",
       "1 DMSO               14.96655 -0.23701455 healthy + DMSO         \n",
       "2 DMSO               13.21391  0.07471345 healthy + DMSO         \n",
       "3 DMSO               13.96944  0.77529192 healthy + DMSO         \n",
       "4 DMSO               12.73919  0.86919010 healthy + DMSO         \n",
       "5 DMSO               11.92956  0.02598767 healthy + DMSO         \n",
       "6 DMSO               14.03525  0.54138279 healthy + DMSO         \n",
       "  Metadata_Cell_Count\n",
       "1 473                \n",
       "2 473                \n",
       "3 473                \n",
       "4 473                \n",
       "5 473                \n",
       "6 473                "
      ]
     },
     "metadata": {},
     "output_type": "display_data"
    }
   ],
   "source": [
    "# Load data\n",
    "umap_cp_df <- list()\n",
    "\n",
    "for (plate in names(output_umap_files)) {\n",
    "    # Find the umap file associated with the plate\n",
    "    umap_file <- umap_files[stringr::str_detect(umap_files, plate)]\n",
    "    \n",
    "    if (length(umap_file) > 0) {\n",
    "        # Load the umap data directly from Parquet file\n",
    "        df <- arrow::read_parquet(umap_file)\n",
    "         \n",
    "        # Group by Metadata_Well and count cells\n",
    "        cell_count_df <- df %>%\n",
    "            dplyr::group_by(Metadata_Well) %>%\n",
    "            dplyr::count() %>%\n",
    "            dplyr::rename(Metadata_Cell_Count = n)\n",
    "        \n",
    "        # Merge the cell count data with the original dataframe\n",
    "        umap_cp_df[[plate]] <- df %>%\n",
    "            dplyr::left_join(cell_count_df, by = \"Metadata_Well\")\n",
    "        \n",
    "        # Update 'Endocrinology & Hormones' in Metadata_Pathway\n",
    "        umap_cp_df[[plate]] <- umap_cp_df[[plate]] %>%\n",
    "            dplyr::mutate(Metadata_Pathway = dplyr::recode(Metadata_Pathway,\n",
    "                                                           \"Endocrinology & Hormones\" = \"Endocrinology &\\nHormones\"))\n",
    "            \n",
    "    } else {\n",
    "        message(paste(\"No file found for plate:\", plate))\n",
    "    }\n",
    "}\n",
    "\n",
    "# Inspect the first processed plate's data and print its dimensions\n",
    "if (length(umap_cp_df) > 0) {\n",
    "    plate_to_inspect <- names(umap_cp_df)[1]\n",
    "    df_to_inspect <- umap_cp_df[[plate_to_inspect]]\n",
    "    print(paste(\"Inspecting plate:\", plate_to_inspect))\n",
    "    print(paste(\"Dimensions:\", dim(df_to_inspect)[1], \"rows x\", dim(df_to_inspect)[2], \"columns\"))\n",
    "    head(df_to_inspect)\n",
    "}\n"
   ]
  },
  {
   "cell_type": "code",
   "execution_count": 4,
   "metadata": {
    "vscode": {
     "languageId": "r"
    }
   },
   "outputs": [],
   "source": [
    "for (plate in names(umap_cp_df)) {\n",
    "    # cell type UMAP\n",
    "    output_file <- output_umap_files[[plate]]\n",
    "    output_file <- paste0(output_file, \"_cell_type.png\")\n",
    "    \n",
    "    umap_dose_gg <- (\n",
    "        ggplot(umap_cp_df[[plate]], aes(x = UMAP0, y = UMAP1))\n",
    "        + geom_point(\n",
    "            aes(color = Metadata_treatment_type), size = 0.4, alpha = 0.7\n",
    "        )\n",
    "        + facet_grid(Metadata_treatment_type ~ .)\n",
    "        + theme_bw()\n",
    "        + scale_color_brewer(palette = \"Dark2\", name = \"Cell type\")\n",
    "        + theme(legend.position = \"none\")\n",
    "\n",
    "    )\n",
    "    \n",
    "    ggsave(output_file, umap_dose_gg, dpi = 500, height = 6, width = 4)\n",
    "}"
   ]
  },
  {
   "cell_type": "code",
   "execution_count": 5,
   "metadata": {
    "vscode": {
     "languageId": "r"
    }
   },
   "outputs": [],
   "source": [
    "for (plate in names(umap_cp_df)) {\n",
    "    # Filter data for the two treatment types\n",
    "    filtered_df <- umap_cp_df[[plate]] %>%\n",
    "        dplyr::filter(Metadata_treatment_type %in% c(\"healthy + DMSO\", \"failing + DMSO\"))\n",
    "    \n",
    "    # Generate output file path\n",
    "    output_file <- output_umap_files[[plate]]\n",
    "    output_file <- paste0(output_file, \"_healthy_failing.png\")\n",
    "    \n",
    "    # Create UMAP plot\n",
    "    umap_gg <- (\n",
    "        ggplot(filtered_df, aes(x = UMAP0, y = UMAP1))\n",
    "        + geom_point(\n",
    "            aes(color = Metadata_treatment_type), size = 0.4, alpha = 0.7\n",
    "        )\n",
    "        + theme_bw()\n",
    "        + facet_wrap(~ Metadata_treatment_type, nrow = 1)\n",
    "        + scale_color_manual(values = c(\"healthy + DMSO\" = \"#004400\", \"failing + DMSO\" = \"#a0004b\"), name = \"Treatment Type\")\n",
    "        + theme(legend.position = \"none\")\n",
    "    )\n",
    "    \n",
    "    # Save the plot\n",
    "    ggsave(output_file, umap_gg, dpi = 500, height = 4, width = 6)\n",
    "}"
   ]
  },
  {
   "cell_type": "code",
   "execution_count": 6,
   "metadata": {
    "vscode": {
     "languageId": "r"
    }
   },
   "outputs": [],
   "source": [
    "custom_palette <- c(\n",
    "  \"Angiogenesis\" = \"#1b9e77\",\n",
    "  \"Apoptosis\" = \"#d95f02\",\n",
    "  \"DNA Damage\" = \"#7570b3\",\n",
    "  \"Endocrinology &\\nHormones\" = \"#e7298a\",\n",
    "  \"Epigenetics\" = \"#66a61e\",\n",
    "  \"MAPK\" = \"#e6ab02\",\n",
    "  \"Metabolism\" = \"#a6761d\",\n",
    "  \"Neuronal Signaling\" = \"#667665\",\n",
    "  \"Others\" = \"#b3b3b3\",\n",
    "  \"PI3K/Akt/mTOR\" = \"#8dd3c7\",\n",
    "  \"Stem Cells & Wnt\" = \"#fb8072\",\n",
    "  \"GPCR & G Protein\" = \"#984ea3\",\n",
    "  \"healthy + DMSO\" = \"#004400\",\n",
    "  \"failing + DMSO\" = \"#a0004b\"\n",
    ")\n",
    "\n",
    "for (plate in names(umap_cp_df)) {\n",
    "    # pathway UMAP\n",
    "    output_file <- output_umap_files[[plate]]\n",
    "    output_file <- paste0(output_file, \"_pathway.png\")\n",
    "\n",
    "    # Move control facets to the front\n",
    "    umap_cp_df[[plate]]$Metadata_Pathway <- factor(\n",
    "        umap_cp_df[[plate]]$Metadata_Pathway,\n",
    "        levels = c(\"healthy + DMSO\", \"failing + DMSO\", setdiff(unique(umap_cp_df[[plate]]$Metadata_Pathway), c(\"healthy + DMSO\", \"failing + DMSO\")))\n",
    "        )\n",
    "\n",
    "    umap_dose_gg <- (\n",
    "        ggplot(umap_cp_df[[plate]], aes(x = UMAP0, y = UMAP1))\n",
    "        + geom_point(\n",
    "            aes(color = Metadata_Pathway), size = 0.4, alpha = 0.4\n",
    "        )\n",
    "        + theme_bw()\n",
    "        + facet_wrap(~ Metadata_Pathway, nrow=2)\n",
    "        + scale_color_manual(values = custom_palette) # Use the custom color palette\n",
    "        + theme(legend.position = \"none\")\n",
    "    )\n",
    "    \n",
    "    ggsave(output_file, umap_dose_gg, dpi = 500, height = 4, width = 10)\n",
    "}"
   ]
  }
 ],
 "metadata": {
  "kernelspec": {
   "display_name": "R",
   "language": "R",
   "name": "ir"
  },
  "language_info": {
   "codemirror_mode": "r",
   "file_extension": ".r",
   "mimetype": "text/x-r-source",
   "name": "R",
   "pygments_lexer": "r",
   "version": "4.2.2"
  }
 },
 "nbformat": 4,
 "nbformat_minor": 2
}
