{
 "cells": [
  {
   "cell_type": "markdown",
   "metadata": {},
   "source": [
    "# Run illumination correction on data\n",
    "\n",
    "Note: We load in the CellProfiler IC pipeline to use for this process."
   ]
  },
  {
   "cell_type": "markdown",
   "metadata": {},
   "source": [
    "## Import libraries"
   ]
  },
  {
   "cell_type": "code",
   "execution_count": 1,
   "metadata": {},
   "outputs": [],
   "source": [
    "import pathlib\n",
    "import pprint\n",
    "\n",
    "import sys\n",
    "\n",
    "sys.path.append(\"../utils\")\n",
    "import cp_parallel"
   ]
  },
  {
   "cell_type": "markdown",
   "metadata": {},
   "source": [
    "## Set paths and variables"
   ]
  },
  {
   "cell_type": "markdown",
   "metadata": {},
   "source": [
    "### Set the constants"
   ]
  },
  {
   "cell_type": "code",
   "execution_count": 2,
   "metadata": {},
   "outputs": [],
   "source": [
    "# set the run type for the parallelization\n",
    "run_name = \"illum_correction\"\n",
    "\n",
    "# set up the batch name for the plate(s) being processed\n",
    "batch_name = \"batch_2\""
   ]
  },
  {
   "cell_type": "markdown",
   "metadata": {},
   "source": [
    "### Set up paths"
   ]
  },
  {
   "cell_type": "code",
   "execution_count": 3,
   "metadata": {},
   "outputs": [
    {
     "name": "stdout",
     "output_type": "stream",
     "text": [
      "There are a total of 4 plates. The names of the plates are:\n",
      "CARD-CelIns-CX7_250528090001\n",
      "CARD-CelIns-CX7_250529110001\n",
      "CARD-CelIns-CX7_250528150001\n",
      "CARD-CelIns-CX7_250529150001\n"
     ]
    }
   ],
   "source": [
    "# set main output dir for all plates if it doesn't exist\n",
    "output_dir = pathlib.Path(\"./illum_directory\")\n",
    "output_dir.mkdir(exist_ok=True)\n",
    "\n",
    "# ensure the directory for the batch_name exists within the illum_directory\n",
    "batch_output_dir = output_dir / batch_name\n",
    "batch_output_dir.mkdir(exist_ok=True)\n",
    "\n",
    "# set base directory for where the images are located (WILL NEED TO CHANGE ON YOUR LOCAL MACHINE)\n",
    "base_dir = pathlib.Path(\n",
    "    \"../../Way Science Lab Dropbox/Jenna  Tomkinson/McKinseyLab_WayLab_CardiacFibroblasts/Compound Screen/\"\n",
    ").resolve(strict=True)\n",
    "\n",
    "# folder where images are located within folders\n",
    "images_dir = pathlib.Path(f\"{base_dir}/Plate 2\").resolve(strict=True)\n",
    "\n",
    "# list for plate names based on folders to use to create dictionary\n",
    "plate_names = []\n",
    "# iterate through 0.download_data and append plate names from folder names that contain image data from that plate\n",
    "for file_path in images_dir.iterdir():\n",
    "    plate_names.append(str(file_path.stem))\n",
    "\n",
    "print(\"There are a total of\", len(plate_names), \"plates. The names of the plates are:\")\n",
    "for plate in plate_names:\n",
    "    print(plate)"
   ]
  },
  {
   "cell_type": "markdown",
   "metadata": {},
   "source": [
    "## Create dictionary with all plate data to run CellProfiler in parallel"
   ]
  },
  {
   "cell_type": "code",
   "execution_count": 4,
   "metadata": {},
   "outputs": [
    {
     "name": "stdout",
     "output_type": "stream",
     "text": [
      "{   'CARD-CelIns-CX7_250528090001': {   'path_to_images': PosixPath('/home/jenna/Way Science Lab Dropbox/Jenna  Tomkinson/McKinseyLab_WayLab_CardiacFibroblasts/Compound Screen/Plate 2/CARD-CelIns-CX7_250528090001'),\n",
      "                                        'path_to_output': PosixPath('illum_directory/batch_2/CARD-CelIns-CX7_250528090001'),\n",
      "                                        'path_to_pipeline': PosixPath('/home/jenna/targeted_fibrosis_drug_screen/1.illumination_correction/pipeline/illum.cppipe')},\n",
      "    'CARD-CelIns-CX7_250528150001': {   'path_to_images': PosixPath('/home/jenna/Way Science Lab Dropbox/Jenna  Tomkinson/McKinseyLab_WayLab_CardiacFibroblasts/Compound Screen/Plate 2/CARD-CelIns-CX7_250528150001'),\n",
      "                                        'path_to_output': PosixPath('illum_directory/batch_2/CARD-CelIns-CX7_250528150001'),\n",
      "                                        'path_to_pipeline': PosixPath('/home/jenna/targeted_fibrosis_drug_screen/1.illumination_correction/pipeline/illum.cppipe')},\n",
      "    'CARD-CelIns-CX7_250529110001': {   'path_to_images': PosixPath('/home/jenna/Way Science Lab Dropbox/Jenna  Tomkinson/McKinseyLab_WayLab_CardiacFibroblasts/Compound Screen/Plate 2/CARD-CelIns-CX7_250529110001'),\n",
      "                                        'path_to_output': PosixPath('illum_directory/batch_2/CARD-CelIns-CX7_250529110001'),\n",
      "                                        'path_to_pipeline': PosixPath('/home/jenna/targeted_fibrosis_drug_screen/1.illumination_correction/pipeline/illum.cppipe')},\n",
      "    'CARD-CelIns-CX7_250529150001': {   'path_to_images': PosixPath('/home/jenna/Way Science Lab Dropbox/Jenna  Tomkinson/McKinseyLab_WayLab_CardiacFibroblasts/Compound Screen/Plate 2/CARD-CelIns-CX7_250529150001'),\n",
      "                                        'path_to_output': PosixPath('illum_directory/batch_2/CARD-CelIns-CX7_250529150001'),\n",
      "                                        'path_to_pipeline': PosixPath('/home/jenna/targeted_fibrosis_drug_screen/1.illumination_correction/pipeline/illum.cppipe')}}\n"
     ]
    }
   ],
   "source": [
    "# set path to the illum pipeline\n",
    "path_to_pipeline = pathlib.Path(\"./pipeline/illum.cppipe\").resolve(strict=True)\n",
    "\n",
    "# create plate info dictionary with all parts of the CellProfiler CLI command to run in parallel\n",
    "plate_info_dictionary = {\n",
    "    name: {\n",
    "        \"path_to_images\": pathlib.Path(list(images_dir.rglob(name))[0]).resolve(\n",
    "            strict=True\n",
    "        ),\n",
    "        \"path_to_output\": pathlib.Path(f\"{output_dir}/{batch_name}/{name}\"),\n",
    "        \"path_to_pipeline\": path_to_pipeline,\n",
    "    }\n",
    "    for name in plate_names\n",
    "}\n",
    "\n",
    "# view the dictionary to assess that all info is added correctly\n",
    "pprint.pprint(plate_info_dictionary, indent=4)"
   ]
  },
  {
   "cell_type": "markdown",
   "metadata": {},
   "source": [
    "## Run CellProfiler Parallel\n",
    "\n",
    "Note: We do not run this code cell as we will run this process through the script."
   ]
  },
  {
   "cell_type": "code",
   "execution_count": null,
   "metadata": {},
   "outputs": [],
   "source": [
    "cp_parallel.run_cellprofiler_parallel(\n",
    "    plate_info_dictionary=plate_info_dictionary, run_name=run_name, group_level=\"plate\"\n",
    ")"
   ]
  }
 ],
 "metadata": {
  "kernelspec": {
   "display_name": "fibrosis_cp_env",
   "language": "python",
   "name": "python3"
  },
  "language_info": {
   "codemirror_mode": {
    "name": "ipython",
    "version": 3
   },
   "file_extension": ".py",
   "mimetype": "text/x-python",
   "name": "python",
   "nbconvert_exporter": "python",
   "pygments_lexer": "ipython3",
   "version": "3.9.20"
  }
 },
 "nbformat": 4,
 "nbformat_minor": 2
}
